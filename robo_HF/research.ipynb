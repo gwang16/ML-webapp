{
 "cells": [
  {
   "cell_type": "markdown",
   "metadata": {
    "deletable": true,
    "editable": true
   },
   "source": [
    "# Data"
   ]
  },
  {
   "cell_type": "code",
   "execution_count": 12,
   "metadata": {
    "collapsed": false
   },
   "outputs": [],
   "source": [
    "import datetime as dt\n",
    "import matplotlib.pyplot as plt\n",
    "from matplotlib import style\n",
    "import pandas as pd\n",
    "import pandas_datareader.data as web\n",
    "style.use('ggplot')"
   ]
  },
  {
   "cell_type": "code",
   "execution_count": 13,
   "metadata": {
    "collapsed": false
   },
   "outputs": [
    {
     "name": "stdout",
     "output_type": "stream",
     "text": [
      "                  Open        High         Low       Close     Volume  \\\n",
      "Date                                                                    \n",
      "2000-01-03  104.874997  112.499998  101.687501  111.937502  133949200   \n",
      "2000-01-04  108.250001  110.625002  101.187503  102.500003  128094400   \n",
      "2000-01-05  103.749998  110.562497  103.000001  103.999997  194580400   \n",
      "2000-01-06  106.124999  106.999999   94.999998   94.999998  191993200   \n",
      "2000-01-07   96.499999  101.000002   95.500003   99.500001  115183600   \n",
      "\n",
      "            Adj Close  \n",
      "Date                   \n",
      "2000-01-03   3.625643  \n",
      "2000-01-04   3.319964  \n",
      "2000-01-05   3.368548  \n",
      "2000-01-06   3.077039  \n",
      "2000-01-07   3.222794  \n"
     ]
    }
   ],
   "source": [
    "start = dt.datetime(2000, 1, 1)\n",
    "end = dt.datetime(2016, 12, 31)\n",
    "\n",
    "df = web.DataReader('AAPL', 'yahoo', start, end)\n",
    "print(df.head())\n",
    "df.to_csv('./1.data/AAPL.csv')"
   ]
  },
  {
   "cell_type": "code",
   "execution_count": 14,
   "metadata": {
    "collapsed": true
   },
   "outputs": [],
   "source": [
    "df = pd.read_csv('./1.data/AAPL.csv', parse_dates = True, index_col = 0) #index by first column, instead of 0, 1, 2.."
   ]
  },
  {
   "cell_type": "code",
   "execution_count": 15,
   "metadata": {
    "collapsed": false
   },
   "outputs": [
    {
     "name": "stdout",
     "output_type": "stream",
     "text": [
      "                  Open        High         Low       Close     Volume  \\\n",
      "Date                                                                    \n",
      "2000-01-03  104.874997  112.499998  101.687501  111.937502  133949200   \n",
      "2000-01-04  108.250001  110.625002  101.187503  102.500003  128094400   \n",
      "2000-01-05  103.749998  110.562497  103.000001  103.999997  194580400   \n",
      "2000-01-06  106.124999  106.999999   94.999998   94.999998  191993200   \n",
      "2000-01-07   96.499999  101.000002   95.500003   99.500001  115183600   \n",
      "\n",
      "            Adj Close     100ma  \n",
      "Date                             \n",
      "2000-01-03   3.625643  3.625643  \n",
      "2000-01-04   3.319964  3.472804  \n",
      "2000-01-05   3.368548  3.438052  \n",
      "2000-01-06   3.077039  3.347799  \n",
      "2000-01-07   3.222794  3.322798  \n"
     ]
    }
   ],
   "source": [
    "df['100ma'] = df['Adj Close'].rolling(window = 100, min_periods = 0).mean() # create new column of 100ma\n",
    "print(df.head())"
   ]
  },
  {
   "cell_type": "code",
   "execution_count": 16,
   "metadata": {
    "collapsed": false
   },
   "outputs": [
    {
     "data": {
      "image/png": "[encoded data removed]",
      "text/plain": [
       "<matplotlib.figure.Figure at 0x1102ef240>"
      ]
     },
     "metadata": {},
     "output_type": "display_data"
    }
   ],
   "source": [
    "ax1 = plt.subplot2grid((6,1), (0,0), rowspan = 5, colspan = 1) #size of grid, starting position, width of graph, height of graph\n",
    "ax2 = plt.subplot2grid((6,1), (5,0), rowspan = 1, colspan = 1, sharex = ax1)\n",
    "\n",
    "ax1.plot(df.index, df['Adj Close'])\n",
    "ax1.plot(df.index, df['100ma'])\n",
    "ax2.bar(df.index, df['Volume'])\n",
    "\n",
    "plt.show()"
   ]
  },
  {
   "cell_type": "markdown",
   "metadata": {
    "deletable": true,
    "editable": true
   },
   "source": [
    "# Database"
   ]
  },
  {
   "cell_type": "code",
   "execution_count": 42,
   "metadata": {
    "collapsed": true,
    "deletable": true,
    "editable": true
   },
   "outputs": [],
   "source": [
    "import sqlite3\n",
    "import os\n",
    "\n",
    "conn = sqlite3.connect('./3.db/finance.db')\n",
    "c = conn.cursor()\n",
    "\n",
    "c.execute(\"SELECT * FROM users\")\n",
    "results = c.fetchall()\n",
    "\n",
    "conn.close()"
   ]
  },
  {
   "cell_type": "code",
   "execution_count": 43,
   "metadata": {
    "collapsed": false,
    "deletable": true,
    "editable": true
   },
   "outputs": [
    {
     "name": "stdout",
     "output_type": "stream",
     "text": [
      "[(4, 'george', '$pbkdf2-sha256$29000$uDcmpLRWqnWOMUZoDeEc4w$nZHbBhVsOSMeuuVx.EjWJwAQD3zz.W/zO/trExfYIKk', 1.939999999999955), (5, 'Bla', '$pbkdf2-sha256$29000$3HtvLSUEQIixdk7JOScE4A$Snw//x6VYqlmjd0MAurZjf/5o/C.D4pgWJ7rGesMjuc', 10000), (6, 'chuck', '$pbkdf2-sha256$29000$spbSOmcMoXTuHYOQcu6dEw$NaCRPmP/FsVG4XZTYGQV7Kr9ZgacSuEPY4g7xG1.2R8', 9995.16)]\n"
     ]
    }
   ],
   "source": [
    "print(results)"
   ]
  },
  {
   "cell_type": "markdown",
   "metadata": {
    "deletable": true,
    "editable": true
   },
   "source": [
    "# Modeling"
   ]
  },
  {
   "cell_type": "code",
   "execution_count": 66,
   "metadata": {
    "collapsed": false
   },
   "outputs": [
    {
     "name": "stdout",
     "output_type": "stream",
     "text": [
      "{'name': 'Apple Inc.', 'price': 141.83, 'ticker': 'AAPL'}\n"
     ]
    }
   ],
   "source": [
    "def lookup(symbol):\n",
    "    \"\"\"Look up quote for symbol.\"\"\"\n",
    "\n",
    "    # reject symbol if it starts with caret\n",
    "    if symbol.startswith(\"^\"):\n",
    "        return None\n",
    "\n",
    "    # reject symbol if it contains comma\n",
    "    if \",\" in symbol:\n",
    "        return None\n",
    "\n",
    "    # query Yahoo for quote\n",
    "    # http://stackoverflow.com/a/21351911\n",
    "    try:\n",
    "        url = \"http://download.finance.yahoo.com/d/quotes.csv?f=snl1&s={}\".format(symbol)\n",
    "        webpage = urllib.request.urlopen(url)\n",
    "        datareader = csv.reader(webpage.read().decode(\"utf-8\").splitlines())\n",
    "        row = next(datareader)\n",
    "    except:\n",
    "        return None\n",
    "\n",
    "    # ensure stock exists\n",
    "    try:\n",
    "        price = float(row[2])\n",
    "    except:\n",
    "        return None\n",
    "\n",
    "    # return stock's name (as a str), price (as a float), and (uppercased) symbol (as a str)\n",
    "    return {\n",
    "        \"name\": row[1],\n",
    "        \"price\": price,\n",
    "        \"ticker\": row[0].upper()\n",
    "    }\n",
    "\n",
    "print(lookup(\"AAPL\"))"
   ]
  },
  {
   "cell_type": "code",
   "execution_count": 40,
   "metadata": {
    "collapsed": true
   },
   "outputs": [],
   "source": [
    "def quote(ticker):\n",
    "    return lookup(ticker).get(\"price\")\n",
    "\n",
    "print(quote(\"AAPL\"))"
   ]
  },
  {
   "cell_type": "code",
   "execution_count": 54,
   "metadata": {
    "collapsed": false
   },
   "outputs": [],
   "source": [
    "from cs50 import SQL\n",
    "db = SQL(\"sqlite:///3.db/finance.db\")\n",
    "session = {'user_id':4}"
   ]
  },
  {
   "cell_type": "code",
   "execution_count": 73,
   "metadata": {
    "collapsed": false
   },
   "outputs": [
    {
     "data": {
      "text/plain": [
       "'Sold 10 shares of SNAP, at price 19.94. Remaining balance is 498.18999999999994'"
      ]
     },
     "execution_count": 73,
     "metadata": {},
     "output_type": "execute_result"
    }
   ],
   "source": [
    "def sell(ticker, shares):\n",
    "    # Check for shares in portfolio\n",
    "    portfolio = db.execute(\"SELECT symbol, SUM(shares) AS shares FROM history WHERE user_id = :id GROUP BY 1 HAVING symbol = :symbol\", \n",
    "        id=session[\"user_id\"], symbol = ticker.upper())\n",
    "    if len(portfolio) < 1:\n",
    "        return None\n",
    "    if float(shares) > portfolio[0].get(\"shares\"):\n",
    "        return None\n",
    "    # Current stock price\n",
    "    price = lookup(ticker).get(\"price\")\n",
    "    # Amount in bank account\n",
    "    cash = db.execute(\"SELECT * FROM users WHERE id = :id\", id=session[\"user_id\"])[0].get(\"cash\")\n",
    "    # Store who, what, how many, how much, when\n",
    "    db.execute(\"INSERT INTO history (user_id, symbol, shares, price) VALUES(:user_id, :symbol, :shares, :price)\", \n",
    "                user_id = session[\"user_id\"], symbol = ticker.upper(), \n",
    "                shares = -1 * float(shares), price = price)\n",
    "    # Add cash to account\n",
    "    db.execute(\"UPDATE 'users' SET cash = :cash where id = :id\", \n",
    "            cash = float(cash) + float(price) * float(shares), id = session[\"user_id\"])\n",
    "    return \"Sold {} shares of {}, at price {}. Remaining balance is {}\".format(shares, ticker, price, cash)\n",
    "    \n",
    "sell(\"SNAP\", 10)"
   ]
  },
  {
   "cell_type": "code",
   "execution_count": 75,
   "metadata": {
    "collapsed": false
   },
   "outputs": [
    {
     "data": {
      "text/plain": [
       "'Bought 1 shares of AAPL, at price 141.83. Remaining balance is 697.5899999999999'"
      ]
     },
     "execution_count": 75,
     "metadata": {},
     "output_type": "execute_result"
    }
   ],
   "source": [
    "def buy(ticker, shares):\n",
    "    # Current stock price\n",
    "    price = lookup(ticker).get(\"price\")\n",
    "    # Amount in bank account\n",
    "    cash = db.execute(\"SELECT * FROM users WHERE id = :id\", id=session[\"user_id\"])[0].get(\"cash\")\n",
    "    # Check affordability\n",
    "    if float(price) * float(shares) > float(cash):\n",
    "        return \"you are trying to buy {} shares of {}, which costs {}, but you only have {}\".format(shares, ticker, price, cash)\n",
    "    # Store who, what, how many, how much, when\n",
    "    db.execute(\"INSERT INTO history (user_id, symbol, shares, price) VALUES(:user_id, :ticker, :shares, :price)\", \n",
    "                user_id = session[\"user_id\"], ticker = ticker.upper(), \n",
    "                shares = shares, price = price)\n",
    "    # Reduce cash\n",
    "    db.execute(\"UPDATE 'users' SET cash = :cash where id = :id\", \n",
    "            cash = float(cash) - float(price) * float(shares), id = session[\"user_id\"])\n",
    "    return \"Bought {} shares of {}, at price {}. Remaining balance is {}\".format(shares, ticker, price, cash)\n",
    "\n",
    "buy(\"AAPL\", 1)"
   ]
  },
  {
   "cell_type": "code",
   "execution_count": 112,
   "metadata": {
    "collapsed": true
   },
   "outputs": [],
   "source": [
    "def execute(strategy):\n",
    "    if strategy.get(\"position\") == \"buy\":\n",
    "        buy(strategy.get(\"ticker\"), strategy.get(\"shares\"))\n",
    "    if strategy.get(\"position\") == \"sell\":\n",
    "        sell(strategy.get(\"ticker\"), strategy.get(\"shares\"))"
   ]
  },
  {
   "cell_type": "code",
   "execution_count": 113,
   "metadata": {
    "collapsed": true,
    "deletable": true,
    "editable": true
   },
   "outputs": [],
   "source": [
    "def strategy1(df):\n",
    "    if df['Adj Close'][len(df)-1] > df['100ma'][len(df)-1]:\n",
    "        position = \"buy\"\n",
    "    if df['Adj Close'][len(df)-1] < df['100ma'][len(df)-1]:\n",
    "        position = \"sell\"\n",
    "\n",
    "    # ignore order type for now\n",
    "    return {\n",
    "        \"ticker\": \"AAPL\",\n",
    "        \"position\": position,\n",
    "        \"shares\": 1\n",
    "    }"
   ]
  },
  {
   "cell_type": "code",
   "execution_count": 114,
   "metadata": {
    "collapsed": false
   },
   "outputs": [
    {
     "data": {
      "text/plain": [
       "{'position': 'buy', 'shares': 1, 'ticker': 'AAPL'}"
      ]
     },
     "execution_count": 114,
     "metadata": {},
     "output_type": "execute_result"
    }
   ],
   "source": [
    "strategy1(df)"
   ]
  },
  {
   "cell_type": "code",
   "execution_count": 115,
   "metadata": {
    "collapsed": false
   },
   "outputs": [],
   "source": [
    "execute(strategy1(df))"
   ]
  },
  {
   "cell_type": "markdown",
   "metadata": {
    "collapsed": true,
    "deletable": true,
    "editable": true
   },
   "source": [
    "# Web-application\n",
    "Control using app.py  \n",
    "HTML using templates"
   ]
  }
 ],
 "metadata": {
  "kernelspec": {
   "display_name": "Python 3",
   "language": "python",
   "name": "python3"
  },
  "language_info": {
   "codemirror_mode": {
    "name": "ipython",
    "version": 3
   },
   "file_extension": ".py",
   "mimetype": "text/x-python",
   "name": "python",
   "nbconvert_exporter": "python",
   "pygments_lexer": "ipython3",
   "version": "3.6.0"
  }
 },
 "nbformat": 4,
 "nbformat_minor": 2
}
